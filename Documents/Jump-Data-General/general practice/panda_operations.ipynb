{
 "cells": [
  {
   "cell_type": "code",
   "execution_count": 4,
   "metadata": {},
   "outputs": [],
   "source": [
    "import pandas as pd\n",
    "import datetime\n",
    "import math"
   ]
  },
  {
   "cell_type": "code",
   "execution_count": 5,
   "metadata": {},
   "outputs": [],
   "source": [
    "id_series = pd.Series([0, 1, 2, 3, 4, 5, 6, 7, 8, 9, 10])\n",
    "name_series = pd.Series(['joe', \"bob\", \"jeff\", \"rick\", \"Carl\", \"Sam\", \"ashley\", \"jessica\", \"lexi\", \"angelica\"])\n",
    "salary_series = pd.Series([12345, 23456, 34567, 45678, 56789, 67890, 78901, 89012, 90123, 11234])\n",
    "department_series = pd.Series(['engineering', 'comms', 'ops', 'engineering', 'comms', 'ops', 'engineering', 'comms', 'ops', 'engineering'])\n",
    "employee_start_date = pd.Series([datetime.datetime(2000, 3, 23), datetime.datetime(2000, 3, 23), datetime.datetime(2000, 3, 23), datetime.datetime(2000, 3, 23), datetime.datetime(2000, 3, 23), datetime.datetime(2000, 3, 23), datetime.datetime(2000, 3, 23), datetime.datetime(2000, 3, 23), datetime.datetime(2000, 3, 23), datetime.datetime(2000, 3, 23)])\n",
    "employed_series = pd.Series([True, True, True, True, True, True, True, True, True, True,])"
   ]
  },
  {
   "cell_type": "code",
   "execution_count": 20,
   "metadata": {},
   "outputs": [
    {
     "name": "stdout",
     "output_type": "stream",
     "text": [
      "50999.5 509995 11234 90123\n",
      "      Names   Department  Salary Employee Start Date  employed\n",
      "0       joe  engineering   12345          2000-03-23      True\n",
      "1       bob        comms   23456          2000-03-23      True\n",
      "2      jeff          ops   34567          2000-03-23      True\n",
      "3      rick  engineering   45678          2000-03-23      True\n",
      "4      Carl        comms   56789          2000-03-23      True\n",
      "5       Sam          ops   67890          2000-03-23      True\n",
      "6    ashley  engineering   78901          2000-03-23      True\n",
      "7   jessica        comms   89012          2000-03-23      True\n",
      "8      lexi          ops   90123          2000-03-23      True\n",
      "9  angelica  engineering   11234          2000-03-23      True\n",
      "      Names   Department   Salary Employee Start Date  employed\n",
      "0       joe  engineering  13580.0          2000-03-23      True\n",
      "1       bob        comms  25802.0          2000-03-23      True\n",
      "2      jeff          ops  38024.0          2000-03-23      True\n",
      "3      rick  engineering  50246.0          2000-03-23      True\n",
      "4      Carl        comms  62468.0          2000-03-23      True\n",
      "5       Sam          ops  74679.0          2000-03-23      True\n",
      "6    ashley  engineering  86791.0          2000-03-23      True\n",
      "7   jessica        comms  97913.0          2000-03-23      True\n",
      "8      lexi          ops  99135.0          2000-03-23      True\n",
      "9  angelica  engineering  12357.0          2000-03-23      True\n"
     ]
    }
   ],
   "source": [
    "Active = pd.DataFrame({\n",
    "    'Names': name_series,\n",
    "    \"Salary\": salary_series,\n",
    "    'Employee Start Date': employee_start_date,\n",
    "    'employed': employed_series\n",
    "})\n",
    "\n",
    "average = Active['Salary'].mean()\n",
    "sum = Active['Salary'].sum()\n",
    "min = Active['Salary'].min()\n",
    "max = Active['Salary'].max()\n",
    "\n",
    "print(average, sum, min, max)\n",
    "\n",
    "Department = pd.DataFrame({\n",
    "    'Names': name_series,\n",
    "    'Department': department_series\n",
    "})\n",
    "\n",
    "new_df = Department.merge(Active, on=\"Names\")\n",
    "print(new_df)\n",
    "\n",
    "new_df['Salary'] = (new_df['Salary'] + (new_df['Salary'] * .1)).round()\n",
    "\n",
    "print(new_df)\n"
   ]
  }
 ],
 "metadata": {
  "kernelspec": {
   "display_name": "base",
   "language": "python",
   "name": "python3"
  },
  "language_info": {
   "codemirror_mode": {
    "name": "ipython",
    "version": 3
   },
   "file_extension": ".py",
   "mimetype": "text/x-python",
   "name": "python",
   "nbconvert_exporter": "python",
   "pygments_lexer": "ipython3",
   "version": "3.10.9"
  },
  "orig_nbformat": 4
 },
 "nbformat": 4,
 "nbformat_minor": 2
}
