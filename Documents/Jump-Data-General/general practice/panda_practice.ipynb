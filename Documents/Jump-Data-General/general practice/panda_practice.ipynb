{
 "cells": [
  {
   "cell_type": "code",
   "execution_count": 1,
   "id": "b27934dd",
   "metadata": {},
   "outputs": [],
   "source": [
    "import pandas as pd\n",
    "import datetime"
   ]
  },
  {
   "cell_type": "code",
   "execution_count": 2,
   "id": "b96d38e2",
   "metadata": {},
   "outputs": [],
   "source": [
    "id_series = pd.Series([0, 1, 2, 3, 4, 5, 6, 7, 8, 9, 10])\n",
    "name_series = pd.Series(['joe', \"bob\", \"jeff\", \"rick\", \"Carl\", \"Sam\", \"ashley\", \"jessica\", \"lexi\", \"angelica\"])\n",
    "salary_series = pd.Series([12345, 23456, 34567, 45678, 56789, 67890, 78901, 89012, 90123, 11234])\n",
    "department_series = pd.Series(['engineering', 'comms', 'ops', 'engineering', 'comms', 'ops', 'engineering', 'comms', 'ops', 'engineering'])\n",
    "employee_start_date = pd.Series([datetime.datetime(2000, 3, 23), datetime.datetime(2000, 3, 23), datetime.datetime(2000, 3, 23), datetime.datetime(2000, 3, 23), datetime.datetime(2000, 3, 23), datetime.datetime(2000, 3, 23), datetime.datetime(2000, 3, 23), datetime.datetime(2000, 3, 23), datetime.datetime(2000, 3, 23), datetime.datetime(2000, 3, 23)])\n",
    "employed_series = pd.Series([True, True, True, True, True, True, True, True, True, True,])"
   ]
  },
  {
   "cell_type": "code",
   "execution_count": 3,
   "id": "ef719060",
   "metadata": {},
   "outputs": [
    {
     "name": "stdout",
     "output_type": "stream",
     "text": [
      "      Names  Salary   Department Employee Start Date  employed\n",
      "0       joe   12345  engineering          2000-03-23      True\n",
      "1       bob   23456        comms          2000-03-23      True\n",
      "2      jeff   34567          ops          2000-03-23      True\n",
      "3      rick   45678  engineering          2000-03-23      True\n",
      "4      Carl   56789        comms          2000-03-23      True\n",
      "5       Sam   67890          ops          2000-03-23      True\n",
      "6    ashley   78901  engineering          2000-03-23      True\n",
      "7   jessica   89012        comms          2000-03-23      True\n",
      "8      lexi   90123          ops          2000-03-23      True\n",
      "9  angelica   11234  engineering          2000-03-23      True\n"
     ]
    }
   ],
   "source": [
    "Employees = pd.DataFrame({\n",
    "    'Names': name_series,\n",
    "    \"Salary\": salary_series,\n",
    "    'Department': department_series,\n",
    "    'Employee Start Date': employee_start_date,\n",
    "    'employed': employed_series\n",
    "})\n",
    "\n",
    "print(Employees)"
   ]
  },
  {
   "cell_type": "code",
   "execution_count": 7,
   "id": "9586cc75",
   "metadata": {},
   "outputs": [
    {
     "data": {
      "text/html": [
       "<div>\n",
       "<style scoped>\n",
       "    .dataframe tbody tr th:only-of-type {\n",
       "        vertical-align: middle;\n",
       "    }\n",
       "\n",
       "    .dataframe tbody tr th {\n",
       "        vertical-align: top;\n",
       "    }\n",
       "\n",
       "    .dataframe thead th {\n",
       "        text-align: right;\n",
       "    }\n",
       "</style>\n",
       "<table border=\"1\" class=\"dataframe\">\n",
       "  <thead>\n",
       "    <tr style=\"text-align: right;\">\n",
       "      <th></th>\n",
       "      <th>Names</th>\n",
       "      <th>Salary</th>\n",
       "      <th>Department</th>\n",
       "      <th>Employee Start Date</th>\n",
       "      <th>employed</th>\n",
       "    </tr>\n",
       "  </thead>\n",
       "  <tbody>\n",
       "    <tr>\n",
       "      <th>0</th>\n",
       "      <td>joe</td>\n",
       "      <td>12345</td>\n",
       "      <td>engineering</td>\n",
       "      <td>2000-03-23</td>\n",
       "      <td>True</td>\n",
       "    </tr>\n",
       "    <tr>\n",
       "      <th>3</th>\n",
       "      <td>rick</td>\n",
       "      <td>45678</td>\n",
       "      <td>engineering</td>\n",
       "      <td>2000-03-23</td>\n",
       "      <td>True</td>\n",
       "    </tr>\n",
       "    <tr>\n",
       "      <th>6</th>\n",
       "      <td>ashley</td>\n",
       "      <td>78901</td>\n",
       "      <td>engineering</td>\n",
       "      <td>2000-03-23</td>\n",
       "      <td>True</td>\n",
       "    </tr>\n",
       "    <tr>\n",
       "      <th>9</th>\n",
       "      <td>angelica</td>\n",
       "      <td>11234</td>\n",
       "      <td>engineering</td>\n",
       "      <td>2000-03-23</td>\n",
       "      <td>True</td>\n",
       "    </tr>\n",
       "  </tbody>\n",
       "</table>\n",
       "</div>"
      ],
      "text/plain": [
       "      Names  Salary   Department Employee Start Date  employed\n",
       "0       joe   12345  engineering          2000-03-23      True\n",
       "3      rick   45678  engineering          2000-03-23      True\n",
       "6    ashley   78901  engineering          2000-03-23      True\n",
       "9  angelica   11234  engineering          2000-03-23      True"
      ]
     },
     "execution_count": 7,
     "metadata": {},
     "output_type": "execute_result"
    }
   ],
   "source": [
    "Employees.query('Department == @engineering')"
   ]
  }
 ],
 "metadata": {
  "kernelspec": {
   "display_name": "Python 3 (ipykernel)",
   "language": "python",
   "name": "python3"
  },
  "language_info": {
   "codemirror_mode": {
    "name": "ipython",
    "version": 3
   },
   "file_extension": ".py",
   "mimetype": "text/x-python",
   "name": "python",
   "nbconvert_exporter": "python",
   "pygments_lexer": "ipython3",
   "version": "3.10.9"
  }
 },
 "nbformat": 4,
 "nbformat_minor": 5
}
